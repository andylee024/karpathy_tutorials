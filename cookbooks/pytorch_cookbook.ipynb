{
 "cells": [
  {
   "cell_type": "markdown",
   "metadata": {},
   "source": [
    "# Pytorch cookbook\n",
    "A list of recipes that I find useful when using pytorch."
   ]
  },
  {
   "cell_type": "markdown",
   "metadata": {},
   "source": []
  },
  {
   "cell_type": "markdown",
   "metadata": {},
   "source": [
    "### Reduce & transformations on dimensions - 0 or 1"
   ]
  },
  {
   "cell_type": "code",
   "execution_count": 5,
   "metadata": {},
   "outputs": [
    {
     "name": "stdout",
     "output_type": "stream",
     "text": [
      "Original Tensor:\n",
      " tensor([[0., 2., 3., 5.],\n",
      "        [0., 2., 3., 5.]]) \n",
      "Shape: torch.Size([2, 4]) \n",
      "\n",
      "Sum along dim=0:\n",
      " tensor([[ 0.,  4.,  6., 10.]]) \n",
      "Shape: torch.Size([1, 4]) \n",
      "\n",
      "Sum along dim=1:\n",
      " tensor([[10.],\n",
      "        [10.]]) \n",
      "Shape: torch.Size([2, 1]) \n",
      "\n"
     ]
    }
   ],
   "source": [
    "import torch\n",
    "import torch.nn.functional as F\n",
    "\n",
    "# Create a tensor with shape (2, 4) with hard-coded numbers\n",
    "tensor = torch.tensor([[0.0, 2.0, 3.0, 5.0],\n",
    "                       [0.0, 2.0, 3.0, 5.0]])\n",
    "\n",
    "# Normalize the tensor along dimension 0\n",
    "# Reduces (dim0 = rows) so output tensor will be [1, n]\n",
    "# Output rows = 1, columns = n\n",
    "sum_dim0 = tensor.sum(dim=0, keepdim=True)\n",
    "\n",
    "# Normalize the tensor along dimension 1\n",
    "# Reduces (dim1 = columns) so output tensor will be [m, 1]\n",
    "# Output rows = m, columns = 1\n",
    "sum_dim1 = tensor.sum(dim=1, keepdim=True)\n",
    "print(\"Original Tensor:\\n\", tensor, \"\\nShape:\", tensor.shape, \"\\n\")\n",
    "print(\"Sum along dim=0:\\n\", sum_dim0, \"\\nShape:\", sum_dim0.shape, \"\\n\")\n",
    "print(\"Sum along dim=1:\\n\", sum_dim1, \"\\nShape:\", sum_dim1.shape, \"\\n\")\n",
    "\n",
    "\n"
   ]
  },
  {
   "cell_type": "markdown",
   "metadata": {},
   "source": []
  }
 ],
 "metadata": {
  "kernelspec": {
   "display_name": "base",
   "language": "python",
   "name": "python3"
  },
  "language_info": {
   "codemirror_mode": {
    "name": "ipython",
    "version": 3
   },
   "file_extension": ".py",
   "mimetype": "text/x-python",
   "name": "python",
   "nbconvert_exporter": "python",
   "pygments_lexer": "ipython3",
   "version": "3.11.7"
  }
 },
 "nbformat": 4,
 "nbformat_minor": 2
}
